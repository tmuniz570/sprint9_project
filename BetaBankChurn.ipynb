{
 "cells": [
  {
   "cell_type": "markdown",
   "id": "8e3b0fbf",
   "metadata": {},
   "source": [
    "# Beta Bank Churn Analysis"
   ]
  },
  {
   "cell_type": "code",
   "execution_count": 1,
   "id": "7d233e4b",
   "metadata": {},
   "outputs": [],
   "source": [
    "import pandas as pd\n",
    "from sklearn.model_selection import train_test_split\n",
    "from sklearn.preprocessing import LabelEncoder\n",
    "from sklearn.ensemble import RandomForestClassifier\n",
    "from sklearn.metrics import accuracy_score, roc_auc_score, f1_score, confusion_matrix\n",
    "from sklearn.model_selection import GridSearchCV\n",
    "from imblearn.over_sampling import SMOTE\n",
    "from collections import Counter"
   ]
  },
  {
   "cell_type": "code",
   "execution_count": 2,
   "id": "b81249f5",
   "metadata": {},
   "outputs": [
    {
     "data": {
      "text/html": [
       "<div>\n",
       "<style scoped>\n",
       "    .dataframe tbody tr th:only-of-type {\n",
       "        vertical-align: middle;\n",
       "    }\n",
       "\n",
       "    .dataframe tbody tr th {\n",
       "        vertical-align: top;\n",
       "    }\n",
       "\n",
       "    .dataframe thead th {\n",
       "        text-align: right;\n",
       "    }\n",
       "</style>\n",
       "<table border=\"1\" class=\"dataframe\">\n",
       "  <thead>\n",
       "    <tr style=\"text-align: right;\">\n",
       "      <th></th>\n",
       "      <th>RowNumber</th>\n",
       "      <th>CustomerId</th>\n",
       "      <th>Surname</th>\n",
       "      <th>CreditScore</th>\n",
       "      <th>Geography</th>\n",
       "      <th>Gender</th>\n",
       "      <th>Age</th>\n",
       "      <th>Tenure</th>\n",
       "      <th>Balance</th>\n",
       "      <th>NumOfProducts</th>\n",
       "      <th>HasCrCard</th>\n",
       "      <th>IsActiveMember</th>\n",
       "      <th>EstimatedSalary</th>\n",
       "      <th>Exited</th>\n",
       "    </tr>\n",
       "  </thead>\n",
       "  <tbody>\n",
       "    <tr>\n",
       "      <th>0</th>\n",
       "      <td>1</td>\n",
       "      <td>15634602</td>\n",
       "      <td>Hargrave</td>\n",
       "      <td>619</td>\n",
       "      <td>France</td>\n",
       "      <td>Female</td>\n",
       "      <td>42</td>\n",
       "      <td>2.0</td>\n",
       "      <td>0.00</td>\n",
       "      <td>1</td>\n",
       "      <td>1</td>\n",
       "      <td>1</td>\n",
       "      <td>101348.88</td>\n",
       "      <td>1</td>\n",
       "    </tr>\n",
       "    <tr>\n",
       "      <th>1</th>\n",
       "      <td>2</td>\n",
       "      <td>15647311</td>\n",
       "      <td>Hill</td>\n",
       "      <td>608</td>\n",
       "      <td>Spain</td>\n",
       "      <td>Female</td>\n",
       "      <td>41</td>\n",
       "      <td>1.0</td>\n",
       "      <td>83807.86</td>\n",
       "      <td>1</td>\n",
       "      <td>0</td>\n",
       "      <td>1</td>\n",
       "      <td>112542.58</td>\n",
       "      <td>0</td>\n",
       "    </tr>\n",
       "    <tr>\n",
       "      <th>2</th>\n",
       "      <td>3</td>\n",
       "      <td>15619304</td>\n",
       "      <td>Onio</td>\n",
       "      <td>502</td>\n",
       "      <td>France</td>\n",
       "      <td>Female</td>\n",
       "      <td>42</td>\n",
       "      <td>8.0</td>\n",
       "      <td>159660.80</td>\n",
       "      <td>3</td>\n",
       "      <td>1</td>\n",
       "      <td>0</td>\n",
       "      <td>113931.57</td>\n",
       "      <td>1</td>\n",
       "    </tr>\n",
       "    <tr>\n",
       "      <th>3</th>\n",
       "      <td>4</td>\n",
       "      <td>15701354</td>\n",
       "      <td>Boni</td>\n",
       "      <td>699</td>\n",
       "      <td>France</td>\n",
       "      <td>Female</td>\n",
       "      <td>39</td>\n",
       "      <td>1.0</td>\n",
       "      <td>0.00</td>\n",
       "      <td>2</td>\n",
       "      <td>0</td>\n",
       "      <td>0</td>\n",
       "      <td>93826.63</td>\n",
       "      <td>0</td>\n",
       "    </tr>\n",
       "    <tr>\n",
       "      <th>4</th>\n",
       "      <td>5</td>\n",
       "      <td>15737888</td>\n",
       "      <td>Mitchell</td>\n",
       "      <td>850</td>\n",
       "      <td>Spain</td>\n",
       "      <td>Female</td>\n",
       "      <td>43</td>\n",
       "      <td>2.0</td>\n",
       "      <td>125510.82</td>\n",
       "      <td>1</td>\n",
       "      <td>1</td>\n",
       "      <td>1</td>\n",
       "      <td>79084.10</td>\n",
       "      <td>0</td>\n",
       "    </tr>\n",
       "  </tbody>\n",
       "</table>\n",
       "</div>"
      ],
      "text/plain": [
       "   RowNumber  CustomerId   Surname  CreditScore Geography  Gender  Age  \\\n",
       "0          1    15634602  Hargrave          619    France  Female   42   \n",
       "1          2    15647311      Hill          608     Spain  Female   41   \n",
       "2          3    15619304      Onio          502    France  Female   42   \n",
       "3          4    15701354      Boni          699    France  Female   39   \n",
       "4          5    15737888  Mitchell          850     Spain  Female   43   \n",
       "\n",
       "   Tenure    Balance  NumOfProducts  HasCrCard  IsActiveMember  \\\n",
       "0     2.0       0.00              1          1               1   \n",
       "1     1.0   83807.86              1          0               1   \n",
       "2     8.0  159660.80              3          1               0   \n",
       "3     1.0       0.00              2          0               0   \n",
       "4     2.0  125510.82              1          1               1   \n",
       "\n",
       "   EstimatedSalary  Exited  \n",
       "0        101348.88       1  \n",
       "1        112542.58       0  \n",
       "2        113931.57       1  \n",
       "3         93826.63       0  \n",
       "4         79084.10       0  "
      ]
     },
     "metadata": {},
     "output_type": "display_data"
    },
    {
     "name": "stdout",
     "output_type": "stream",
     "text": [
      "<class 'pandas.core.frame.DataFrame'>\n",
      "RangeIndex: 10000 entries, 0 to 9999\n",
      "Data columns (total 14 columns):\n",
      " #   Column           Non-Null Count  Dtype  \n",
      "---  ------           --------------  -----  \n",
      " 0   RowNumber        10000 non-null  int64  \n",
      " 1   CustomerId       10000 non-null  int64  \n",
      " 2   Surname          10000 non-null  object \n",
      " 3   CreditScore      10000 non-null  int64  \n",
      " 4   Geography        10000 non-null  object \n",
      " 5   Gender           10000 non-null  object \n",
      " 6   Age              10000 non-null  int64  \n",
      " 7   Tenure           9091 non-null   float64\n",
      " 8   Balance          10000 non-null  float64\n",
      " 9   NumOfProducts    10000 non-null  int64  \n",
      " 10  HasCrCard        10000 non-null  int64  \n",
      " 11  IsActiveMember   10000 non-null  int64  \n",
      " 12  EstimatedSalary  10000 non-null  float64\n",
      " 13  Exited           10000 non-null  int64  \n",
      "dtypes: float64(3), int64(8), object(3)\n",
      "memory usage: 1.1+ MB\n"
     ]
    }
   ],
   "source": [
    "# Load the dataset\n",
    "data = pd.read_csv('./Churn.csv')\n",
    "display(data.head())\n",
    "data.info()"
   ]
  },
  {
   "cell_type": "markdown",
   "id": "d1b7e26d",
   "metadata": {},
   "source": [
    "A coluna `RowNumber` e `Surname` parece irrelevante para nossa tarefa, vamos remove-las e manter a `CustomerId` apenas para identificacao do cliente, ela nao vai entrar no modelo. Tambem observamos valores nulos na coluna `Tenure`, podemos definir com 0 assumindo que esse cliente ainda nao tem 1 ano de maturacao completo."
   ]
  },
  {
   "cell_type": "code",
   "execution_count": 3,
   "id": "0e0be727",
   "metadata": {},
   "outputs": [],
   "source": [
    "# remove a coluna 'RowNumber' e 'Surname'\n",
    "data = data.drop(columns=['RowNumber', 'Surname'], axis=1)\n",
    "\n",
    "# Trocar valores nulos em 'Tenure' por 0\n",
    "data['Tenure'] = data['Tenure'].fillna(0)"
   ]
  },
  {
   "cell_type": "markdown",
   "id": "32fd02aa",
   "metadata": {},
   "source": [
    "as clases numericas possuem um grande desequilibrio com valores altos que significam saldo ou score divergindo de valores 0 e 1 que tratam de sim ou nao e ate numero de produtos que sao ordinais."
   ]
  },
  {
   "cell_type": "code",
   "execution_count": 4,
   "id": "7f96c6b7",
   "metadata": {},
   "outputs": [],
   "source": [
    "# Separando o objetivo do dataset\n",
    "x = data.drop(columns=['Exited'], axis=1)\n",
    "y = data['Exited']\n",
    "\n",
    "# dando labels para as variáveis categóricas\n",
    "labelencoder = LabelEncoder()\n",
    "geographyEncoder = labelencoder.fit(x['Geography'])\n",
    "x['Geography'] = geographyEncoder.transform(x['Geography'])\n",
    "# futuramente deixar esses dados salvos em um arquivo pickle para não precisar fazer isso toda vez\n",
    "\n",
    "# Convertendo as variáveis categóricas em variáveis dummy\n",
    "x = pd.get_dummies(x, drop_first=True)\n",
    "\n",
    "# Separando os dados de treino e validação\n",
    "x_train, x_test, y_train, y_test = train_test_split(x, y, train_size=0.75, random_state=12345)"
   ]
  },
  {
   "cell_type": "markdown",
   "id": "d0e35f17",
   "metadata": {},
   "source": [
    "Usei o labelEncoder nas colunas que podem ser classificadas como legenda de varias linhas e o dummy onde seria uma legenda menor."
   ]
  },
  {
   "cell_type": "code",
   "execution_count": 5,
   "id": "7bf8ed76",
   "metadata": {},
   "outputs": [
    {
     "name": "stdout",
     "output_type": "stream",
     "text": [
      "\n",
      "Confusion Matrix:\n",
      "[[1894   71]\n",
      " [ 306  229]]\n",
      "\n",
      "Accuracy Score:\n",
      "0.8492\n",
      "\n",
      "ROC AUC Score:\n",
      "0.6959525338279707\n",
      "\n",
      "F1 Score:\n",
      "0.548502994011976\n"
     ]
    }
   ],
   "source": [
    "# Treinando o modelo\n",
    "model = RandomForestClassifier(n_estimators=100, random_state=12345)\n",
    "model.fit(x_train, y_train)\n",
    "\n",
    "# Fazendo previsões\n",
    "y_pred = model.predict(x_test)\n",
    "\n",
    "# Avaliando o modelo\n",
    "print(\"\\nConfusion Matrix:\")\n",
    "print(confusion_matrix(y_test, y_pred))\n",
    "print(\"\\nAccuracy Score:\")\n",
    "print(accuracy_score(y_test, y_pred))\n",
    "print(\"\\nROC AUC Score:\")\n",
    "print(roc_auc_score(y_test, y_pred))\n",
    "print(\"\\nF1 Score:\")\n",
    "print(f1_score(y_test, y_pred))"
   ]
  },
  {
   "cell_type": "markdown",
   "id": "597e25ca",
   "metadata": {},
   "source": [
    "Temos um f1_score um pouco longe do esperado que seria 0.59, a acuracia me parece bem promisora, e observando a matriz de confusao, observamos o elevado numero de Falsos Positivos, agora vamos equilibrar os dados para ver qual sera o comportamento."
   ]
  },
  {
   "cell_type": "code",
   "execution_count": 6,
   "id": "b84f03b2",
   "metadata": {},
   "outputs": [
    {
     "name": "stdout",
     "output_type": "stream",
     "text": [
      "Original dataset shape Counter({0: 5998, 1: 1502})\n",
      "Reamostrado dataset shape Counter({0: 5998, 1: 5998})\n"
     ]
    }
   ],
   "source": [
    "print(f\"Original dataset shape {Counter(y_train)}\")\n",
    "smote = SMOTE(random_state=12345)\n",
    "x_res, y_res = smote.fit_resample(x_train, y_train)\n",
    "print(f\"Reamostrado dataset shape {Counter(y_res)}\")"
   ]
  },
  {
   "cell_type": "markdown",
   "id": "17838f8a",
   "metadata": {},
   "source": [
    "Agora temos um dataset de treinamento com valores iguais de uns e zeros. sendo assim mais equilibrado e esperamos que consigamos melhorar as metricas com isso."
   ]
  },
  {
   "cell_type": "code",
   "execution_count": 7,
   "id": "29096f1f",
   "metadata": {},
   "outputs": [
    {
     "name": "stdout",
     "output_type": "stream",
     "text": [
      "\n",
      "Confusion Matrix:\n",
      "[[1679  286]\n",
      " [ 209  326]]\n",
      "\n",
      "Accuracy Score:\n",
      "0.802\n",
      "\n",
      "ROC AUC Score:\n",
      "0.7318993603005874\n",
      "\n",
      "F1 Score:\n",
      "0.5684394071490846\n"
     ]
    }
   ],
   "source": [
    "# Treinando o modelo\n",
    "model = RandomForestClassifier(n_estimators=100, random_state=12345)\n",
    "model.fit(x_res, y_res)\n",
    "\n",
    "# Fazendo previsões\n",
    "y_pred = model.predict(x_test)\n",
    "\n",
    "# Avaliando o modelo\n",
    "print(\"\\nConfusion Matrix:\")\n",
    "print(confusion_matrix(y_test, y_pred))\n",
    "print(\"\\nAccuracy Score:\")\n",
    "print(accuracy_score(y_test, y_pred))\n",
    "print(\"\\nROC AUC Score:\")\n",
    "print(roc_auc_score(y_test, y_pred))\n",
    "print(\"\\nF1 Score:\")\n",
    "print(f1_score(y_test, y_pred))"
   ]
  },
  {
   "cell_type": "markdown",
   "id": "0b629d30",
   "metadata": {},
   "source": [
    "Aqui ja pudemos observar uma boa mehoria na metrica f1_score que e nosso objetivo, mas vemos tambem uma queda na acuracia em geral. Vou trabalhar mais um pouco no balanceamento dos dados para buscar melhorias."
   ]
  },
  {
   "cell_type": "code",
   "execution_count": null,
   "id": "cdcfdf48",
   "metadata": {},
   "outputs": [],
   "source": [
    "# Definindo os parâmetros para o GridSearchCV\n",
    "param_grid = {\n",
    "    'n_estimators': [320, 350, 370],\n",
    "    'max_features': ['sqrt', 'log2', None],\n",
    "    'max_depth': [15, 20, 25],\n",
    "    'min_samples_split': [12, 15, 18],\n",
    "    'min_samples_leaf': [1, 2, 3],\n",
    "    'class_weight': ['balanced', None],\n",
    "}\n",
    "\n",
    "# Criando o modelo RandomForestClassifier\n",
    "rf = RandomForestClassifier(random_state=12345)\n",
    "\n",
    "# Criando o GridSearchCV\n",
    "grid_search = GridSearchCV(estimator=rf, param_grid=param_grid, cv=3, n_jobs=-1, verbose=3, scoring='f1')\n",
    "\n",
    "# Ajustando o GridSearchCV aos dados de treino\n",
    "grid_search.fit(x_res.loc[:, 'CreditScore':'Gender_Male'], y_res)\n",
    "\n",
    "# Imprimindo os melhores parâmetros encontrados\n",
    "print(\"Melhores parâmetros encontrados:\")\n",
    "print(grid_search.best_params_)\n",
    "# Imprimindo o melhor score\n",
    "print(\"Melhor score encontrado:\")\n",
    "print(grid_search.best_score_)\n",
    "# Fazendo previsões com o melhor modelo encontrado\n",
    "best_model = grid_search.best_estimator_\n",
    "y_pred_best = best_model.predict(x_test.loc[:, 'CreditScore':'Gender_Male'])\n",
    "# Avaliando o melhor modelo\n",
    "print(\"\\nConfusion Matrix do melhor modelo:\")\n",
    "print(confusion_matrix(y_test, y_pred_best))\n",
    "print(\"\\nAccuracy Score do melhor modelo:\")\n",
    "print(accuracy_score(y_test, y_pred_best))\n",
    "print(\"\\nROC AUC Score do melhor modelo:\")\n",
    "print(roc_auc_score(y_test, y_pred_best))\n",
    "print(\"\\nF1 Score do melhor modelo:\")\n",
    "print(f1_score(y_test, y_pred_best))"
   ]
  },
  {
   "cell_type": "markdown",
   "id": "83d39e0b",
   "metadata": {},
   "source": [
    "Apos obter os hiperparametros otimizados para nosso objetivo, f1_score >= 0.59, treinei o modelo com eles abaixo."
   ]
  },
  {
   "cell_type": "code",
   "execution_count": 9,
   "id": "8c6633d1",
   "metadata": {},
   "outputs": [
    {
     "name": "stdout",
     "output_type": "stream",
     "text": [
      "\n",
      "Confusion Matrix:\n",
      "[[1674  291]\n",
      " [ 185  350]]\n",
      "\n",
      "Accuracy Score:\n",
      "0.8096\n",
      "\n",
      "ROC AUC Score:\n",
      "0.7530570022116001\n",
      "\n",
      "F1 Score:\n",
      "0.5952380952380952\n"
     ]
    }
   ],
   "source": [
    "# Treinando o modelo\n",
    "model = RandomForestClassifier(n_estimators=350, random_state=12345, max_depth=20,\n",
    "                               min_samples_split=15, min_samples_leaf=1, max_features='sqrt')\n",
    "\n",
    "# Treinando o modelo com os melhores parâmetros encontrados\n",
    "model.fit(x_res.loc[:, 'CreditScore':'Gender_Male'], y_res)\n",
    "\n",
    "# Fazendo previsões\n",
    "y_pred = model.predict(x_test.loc[:, 'CreditScore':'Gender_Male'])\n",
    "\n",
    "# Avaliando o modelo\n",
    "print(\"\\nConfusion Matrix:\")\n",
    "print(confusion_matrix(y_test, y_pred))\n",
    "print(\"\\nAccuracy Score:\")\n",
    "print(accuracy_score(y_test, y_pred))\n",
    "print(\"\\nROC AUC Score:\")\n",
    "print(roc_auc_score(y_test, y_pred))\n",
    "print(\"\\nF1 Score:\")\n",
    "print(f1_score(y_test, y_pred))"
   ]
  },
  {
   "cell_type": "markdown",
   "id": "54d8d64d",
   "metadata": {},
   "source": [
    "Mesmo perdendo em acuracia total, conseguimos melhorar o AUC-ROC o que nos diz que o modelo melhorou a capacidade de disntiguir positivos de negativos, ja nosso f1_score passou do objetivo, o que nos da uma boa media de equilibrio entre a sensibilidade e a precisao."
   ]
  },
  {
   "cell_type": "code",
   "execution_count": 10,
   "id": "b203ff48",
   "metadata": {},
   "outputs": [
    {
     "data": {
      "image/png": "[encoded data removed]",
      "text/plain": [
       "<Figure size 2000x500 with 1 Axes>"
      ]
     },
     "metadata": {},
     "output_type": "display_data"
    }
   ],
   "source": [
    "from matplotlib import pyplot as plt\n",
    "import numpy as np\n",
    "import seaborn as sns\n",
    "\n",
    "importances = model.feature_importances_\n",
    "indexes = np.argsort(importances)[::-1]\n",
    "\n",
    "coef = importances[indexes]\n",
    "features = x_res.loc[:, 'CreditScore':'Gender_Male'].columns\n",
    "# Supondo que 'features' seja a lista de nomes das colunas\n",
    "features_array = np.array(features)\n",
    "\n",
    "# Plotar gráfico de barras\n",
    "fig, ax = plt.subplots(figsize=(20, 5))\n",
    "sns.barplot(x=features_array[indexes], y=coef, ax=ax, color='darkblue')\n",
    "plt.xticks(rotation=90)\n",
    "sns.despine()\n",
    "\n",
    "plt.title(\"Importância das Features - RandomForest\")\n",
    "plt.show()"
   ]
  },
  {
   "cell_type": "markdown",
   "id": "dd05913c",
   "metadata": {},
   "source": [
    "Aqui podemos ver qual a importancia de cada coluna no modelo, podemos fazer mais alguns ajustes com isso ou ate algumas analise do tipo: a idade e um fator importante na rotatividade de clientes."
   ]
  }
 ],
 "metadata": {
  "kernelspec": {
   "display_name": "base",
   "language": "python",
   "name": "python3"
  },
  "language_info": {
   "codemirror_mode": {
    "name": "ipython",
    "version": 3
   },
   "file_extension": ".py",
   "mimetype": "text/x-python",
   "name": "python",
   "nbconvert_exporter": "python",
   "pygments_lexer": "ipython3",
   "version": "3.12.7"
  }
 },
 "nbformat": 4,
 "nbformat_minor": 5
}
