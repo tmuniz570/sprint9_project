{
 "cells": [
  {
   "cell_type": "markdown",
   "id": "8e3b0fbf",
   "metadata": {},
   "source": [
    "# Beta Bank Churn Analysis"
   ]
  },
  {
   "cell_type": "code",
   "execution_count": 1,
   "id": "7d233e4b",
   "metadata": {},
   "outputs": [],
   "source": [
    "import pandas as pd\n",
    "from sklearn.model_selection import train_test_split\n",
    "from sklearn.preprocessing import LabelEncoder\n",
    "from sklearn.ensemble import RandomForestClassifier\n",
    "from sklearn.metrics import accuracy_score, roc_auc_score, f1_score, confusion_matrix\n",
    "from sklearn.model_selection import GridSearchCV\n",
    "from imblearn.over_sampling import SMOTE\n",
    "from collections import Counter\n",
    "from sklearn.preprocessing import StandardScaler"
   ]
  },
  {
   "cell_type": "code",
   "execution_count": 2,
   "id": "b81249f5",
   "metadata": {},
   "outputs": [
    {
     "data": {
      "text/html": [
       "<div>\n",
       "<style scoped>\n",
       "    .dataframe tbody tr th:only-of-type {\n",
       "        vertical-align: middle;\n",
       "    }\n",
       "\n",
       "    .dataframe tbody tr th {\n",
       "        vertical-align: top;\n",
       "    }\n",
       "\n",
       "    .dataframe thead th {\n",
       "        text-align: right;\n",
       "    }\n",
       "</style>\n",
       "<table border=\"1\" class=\"dataframe\">\n",
       "  <thead>\n",
       "    <tr style=\"text-align: right;\">\n",
       "      <th></th>\n",
       "      <th>RowNumber</th>\n",
       "      <th>CustomerId</th>\n",
       "      <th>Surname</th>\n",
       "      <th>CreditScore</th>\n",
       "      <th>Geography</th>\n",
       "      <th>Gender</th>\n",
       "      <th>Age</th>\n",
       "      <th>Tenure</th>\n",
       "      <th>Balance</th>\n",
       "      <th>NumOfProducts</th>\n",
       "      <th>HasCrCard</th>\n",
       "      <th>IsActiveMember</th>\n",
       "      <th>EstimatedSalary</th>\n",
       "      <th>Exited</th>\n",
       "    </tr>\n",
       "  </thead>\n",
       "  <tbody>\n",
       "    <tr>\n",
       "      <th>0</th>\n",
       "      <td>1</td>\n",
       "      <td>15634602</td>\n",
       "      <td>Hargrave</td>\n",
       "      <td>619</td>\n",
       "      <td>France</td>\n",
       "      <td>Female</td>\n",
       "      <td>42</td>\n",
       "      <td>2.0</td>\n",
       "      <td>0.00</td>\n",
       "      <td>1</td>\n",
       "      <td>1</td>\n",
       "      <td>1</td>\n",
       "      <td>101348.88</td>\n",
       "      <td>1</td>\n",
       "    </tr>\n",
       "    <tr>\n",
       "      <th>1</th>\n",
       "      <td>2</td>\n",
       "      <td>15647311</td>\n",
       "      <td>Hill</td>\n",
       "      <td>608</td>\n",
       "      <td>Spain</td>\n",
       "      <td>Female</td>\n",
       "      <td>41</td>\n",
       "      <td>1.0</td>\n",
       "      <td>83807.86</td>\n",
       "      <td>1</td>\n",
       "      <td>0</td>\n",
       "      <td>1</td>\n",
       "      <td>112542.58</td>\n",
       "      <td>0</td>\n",
       "    </tr>\n",
       "    <tr>\n",
       "      <th>2</th>\n",
       "      <td>3</td>\n",
       "      <td>15619304</td>\n",
       "      <td>Onio</td>\n",
       "      <td>502</td>\n",
       "      <td>France</td>\n",
       "      <td>Female</td>\n",
       "      <td>42</td>\n",
       "      <td>8.0</td>\n",
       "      <td>159660.80</td>\n",
       "      <td>3</td>\n",
       "      <td>1</td>\n",
       "      <td>0</td>\n",
       "      <td>113931.57</td>\n",
       "      <td>1</td>\n",
       "    </tr>\n",
       "    <tr>\n",
       "      <th>3</th>\n",
       "      <td>4</td>\n",
       "      <td>15701354</td>\n",
       "      <td>Boni</td>\n",
       "      <td>699</td>\n",
       "      <td>France</td>\n",
       "      <td>Female</td>\n",
       "      <td>39</td>\n",
       "      <td>1.0</td>\n",
       "      <td>0.00</td>\n",
       "      <td>2</td>\n",
       "      <td>0</td>\n",
       "      <td>0</td>\n",
       "      <td>93826.63</td>\n",
       "      <td>0</td>\n",
       "    </tr>\n",
       "    <tr>\n",
       "      <th>4</th>\n",
       "      <td>5</td>\n",
       "      <td>15737888</td>\n",
       "      <td>Mitchell</td>\n",
       "      <td>850</td>\n",
       "      <td>Spain</td>\n",
       "      <td>Female</td>\n",
       "      <td>43</td>\n",
       "      <td>2.0</td>\n",
       "      <td>125510.82</td>\n",
       "      <td>1</td>\n",
       "      <td>1</td>\n",
       "      <td>1</td>\n",
       "      <td>79084.10</td>\n",
       "      <td>0</td>\n",
       "    </tr>\n",
       "  </tbody>\n",
       "</table>\n",
       "</div>"
      ],
      "text/plain": [
       "   RowNumber  CustomerId   Surname  CreditScore Geography  Gender  Age  \\\n",
       "0          1    15634602  Hargrave          619    France  Female   42   \n",
       "1          2    15647311      Hill          608     Spain  Female   41   \n",
       "2          3    15619304      Onio          502    France  Female   42   \n",
       "3          4    15701354      Boni          699    France  Female   39   \n",
       "4          5    15737888  Mitchell          850     Spain  Female   43   \n",
       "\n",
       "   Tenure    Balance  NumOfProducts  HasCrCard  IsActiveMember  \\\n",
       "0     2.0       0.00              1          1               1   \n",
       "1     1.0   83807.86              1          0               1   \n",
       "2     8.0  159660.80              3          1               0   \n",
       "3     1.0       0.00              2          0               0   \n",
       "4     2.0  125510.82              1          1               1   \n",
       "\n",
       "   EstimatedSalary  Exited  \n",
       "0        101348.88       1  \n",
       "1        112542.58       0  \n",
       "2        113931.57       1  \n",
       "3         93826.63       0  \n",
       "4         79084.10       0  "
      ]
     },
     "metadata": {},
     "output_type": "display_data"
    },
    {
     "name": "stdout",
     "output_type": "stream",
     "text": [
      "<class 'pandas.core.frame.DataFrame'>\n",
      "RangeIndex: 10000 entries, 0 to 9999\n",
      "Data columns (total 14 columns):\n",
      " #   Column           Non-Null Count  Dtype  \n",
      "---  ------           --------------  -----  \n",
      " 0   RowNumber        10000 non-null  int64  \n",
      " 1   CustomerId       10000 non-null  int64  \n",
      " 2   Surname          10000 non-null  object \n",
      " 3   CreditScore      10000 non-null  int64  \n",
      " 4   Geography        10000 non-null  object \n",
      " 5   Gender           10000 non-null  object \n",
      " 6   Age              10000 non-null  int64  \n",
      " 7   Tenure           9091 non-null   float64\n",
      " 8   Balance          10000 non-null  float64\n",
      " 9   NumOfProducts    10000 non-null  int64  \n",
      " 10  HasCrCard        10000 non-null  int64  \n",
      " 11  IsActiveMember   10000 non-null  int64  \n",
      " 12  EstimatedSalary  10000 non-null  float64\n",
      " 13  Exited           10000 non-null  int64  \n",
      "dtypes: float64(3), int64(8), object(3)\n",
      "memory usage: 1.1+ MB\n"
     ]
    }
   ],
   "source": [
    "# Load the dataset\n",
    "data = pd.read_csv('./Churn.csv')\n",
    "display(data.head())\n",
    "data.info()"
   ]
  },
  {
   "cell_type": "markdown",
   "id": "d1b7e26d",
   "metadata": {},
   "source": [
    "A coluina `RowNumber` parece irrelevante para nossa tarefa, vamos remover. Tambem observamos valores nulos na coluna `Tenure`, podemos definir com 0 assumindo que esse cliente ainda nao tem 1 ano de maturacao completo."
   ]
  },
  {
   "cell_type": "code",
   "execution_count": 3,
   "id": "0e0be727",
   "metadata": {},
   "outputs": [],
   "source": [
    "# remove a coluna 'RowNumber'\n",
    "data = data.drop(columns=['RowNumber'], axis=1)\n",
    "\n",
    "# Trocar valores nulos em 'Tenure' por 0\n",
    "data['Tenure'] = data['Tenure'].fillna(0)"
   ]
  },
  {
   "cell_type": "markdown",
   "id": "32fd02aa",
   "metadata": {},
   "source": [
    "as clases numericas possuem um grande desequilibrio com valores altos que significam saldo ou score divergindo de valores 0 e 1 que tratam de sim ou nao e ate numero de produtos que sao ordinais."
   ]
  },
  {
   "cell_type": "code",
   "execution_count": 4,
   "id": "7f96c6b7",
   "metadata": {},
   "outputs": [],
   "source": [
    "# Separando o objetivo do dataset\n",
    "x = data.drop(columns=['Exited'], axis=1)\n",
    "y = data['Exited']\n",
    "\n",
    "# dando labels para as variáveis categóricas\n",
    "labelencoder = LabelEncoder()\n",
    "geographyEncoder = labelencoder.fit(x['Geography'])\n",
    "x['Geography'] = geographyEncoder.transform(x['Geography'])\n",
    "surnameEncoder = labelencoder.fit(x['Surname'])\n",
    "x['Surname'] = surnameEncoder.transform(x['Surname'])\n",
    "\n",
    "# futuramente deixar esses dados salvos em um arquivo pickle para não precisar fazer isso toda vez\n",
    "\n",
    "# Convertendo as variáveis categóricas em variáveis dummy\n",
    "x = pd.get_dummies(x, drop_first=True)\n",
    "\n",
    "# Separando os dados de treino e validação\n",
    "x_train, x_test, y_train, y_test = train_test_split(x, y, train_size=0.75, random_state=12345)"
   ]
  },
  {
   "cell_type": "markdown",
   "id": "d0e35f17",
   "metadata": {},
   "source": [
    "Usei o labelEncoder nas colunas que podem ser classificadas como legenda de varias linhas e o dummy onde seria uma legenda menor."
   ]
  },
  {
   "cell_type": "code",
   "execution_count": 5,
   "id": "7bf8ed76",
   "metadata": {},
   "outputs": [
    {
     "name": "stdout",
     "output_type": "stream",
     "text": [
      "\n",
      "Confusion Matrix:\n",
      "[[1907   58]\n",
      " [ 312  223]]\n",
      "\n",
      "Accuracy Score:\n",
      "0.852\n",
      "\n",
      "ROC AUC Score:\n",
      "0.6936529452331693\n",
      "\n",
      "F1 Score:\n",
      "0.5465686274509803\n"
     ]
    }
   ],
   "source": [
    "# Treinando o modelo\n",
    "model = RandomForestClassifier(n_estimators=100, random_state=12345)\n",
    "model.fit(x_train, y_train)\n",
    "\n",
    "# Fazendo previsões\n",
    "y_pred = model.predict(x_test)\n",
    "\n",
    "# Avaliando o modelo\n",
    "print(\"\\nConfusion Matrix:\")\n",
    "print(confusion_matrix(y_test, y_pred))\n",
    "print(\"\\nAccuracy Score:\")\n",
    "print(accuracy_score(y_test, y_pred))\n",
    "print(\"\\nROC AUC Score:\")\n",
    "print(roc_auc_score(y_test, y_pred))\n",
    "print(\"\\nF1 Score:\")\n",
    "print(f1_score(y_test, y_pred))"
   ]
  },
  {
   "cell_type": "markdown",
   "id": "597e25ca",
   "metadata": {},
   "source": [
    "Temos um f1_score um pouco longe do esperado que seria 0.59, a acuracia me parece bem promisora, e observando a matriz de confusao, observamos o elevado numero de Falsos Positivos, agora vamos equilibrar os dados para ver qual sera o comportamento."
   ]
  },
  {
   "cell_type": "code",
   "execution_count": 6,
   "id": "b84f03b2",
   "metadata": {},
   "outputs": [
    {
     "name": "stdout",
     "output_type": "stream",
     "text": [
      "Original dataset shape Counter({0: 5998, 1: 1502})\n",
      "Reamostrado dataset shape Counter({0: 5998, 1: 5998})\n"
     ]
    }
   ],
   "source": [
    "print(f\"Original dataset shape {Counter(y_train)}\")\n",
    "smote = SMOTE(random_state=12345)\n",
    "x_res, y_res = smote.fit_resample(x_train, y_train)\n",
    "print(f\"Reamostrado dataset shape {Counter(y_res)}\")"
   ]
  },
  {
   "cell_type": "markdown",
   "id": "17838f8a",
   "metadata": {},
   "source": [
    "Agora temos um dataset de treinamento com valores iguais de uns e zeros. sendo assim mais equilibrado e esperamos que consigamos melhorar as metricas com isso."
   ]
  },
  {
   "cell_type": "code",
   "execution_count": 7,
   "id": "29096f1f",
   "metadata": {},
   "outputs": [
    {
     "name": "stdout",
     "output_type": "stream",
     "text": [
      "\n",
      "Confusion Matrix:\n",
      "[[1714  251]\n",
      " [ 218  317]]\n",
      "\n",
      "Accuracy Score:\n",
      "0.8124\n",
      "\n",
      "ROC AUC Score:\n",
      "0.7323939977646191\n",
      "\n",
      "F1 Score:\n",
      "0.5747960108794198\n"
     ]
    }
   ],
   "source": [
    "# Treinando o modelo\n",
    "model = RandomForestClassifier(n_estimators=100, random_state=12345)\n",
    "model.fit(x_res, y_res)\n",
    "\n",
    "# Fazendo previsões\n",
    "y_pred = model.predict(x_test)\n",
    "\n",
    "# Avaliando o modelo\n",
    "print(\"\\nConfusion Matrix:\")\n",
    "print(confusion_matrix(y_test, y_pred))\n",
    "print(\"\\nAccuracy Score:\")\n",
    "print(accuracy_score(y_test, y_pred))\n",
    "print(\"\\nROC AUC Score:\")\n",
    "print(roc_auc_score(y_test, y_pred))\n",
    "print(\"\\nF1 Score:\")\n",
    "print(f1_score(y_test, y_pred))"
   ]
  },
  {
   "cell_type": "markdown",
   "id": "0b629d30",
   "metadata": {},
   "source": [
    "Aqui ja pudemos observar uma boa mehoria na metrica f1_score que e nosso objetivo, mas vemos tambem uma queda na acuracia em geral. Vou trabalhar mais um pouco no balanceamento dos dados para buscar melhorias."
   ]
  },
  {
   "cell_type": "code",
   "execution_count": 12,
   "id": "8f0fb0ad",
   "metadata": {},
   "outputs": [
    {
     "name": "stderr",
     "output_type": "stream",
     "text": [
      "C:\\Users\\tmuni\\AppData\\Local\\Temp\\ipykernel_11432\\1716764258.py:5: FutureWarning: Setting an item of incompatible dtype is deprecated and will raise in a future error of pandas. Value '[ 0.48819615 -0.30941368 -0.25478287 ...  0.49912231  0.5319008\n",
      "  1.23117516]' has dtype incompatible with int64, please explicitly cast to a compatible dtype first.\n",
      "  x_res.loc[:, 'CreditScore':'Gender_Male'] = scaler.transform(x_res.loc[:, 'CreditScore':'Gender_Male'])\n",
      "C:\\Users\\tmuni\\AppData\\Local\\Temp\\ipykernel_11432\\1716764258.py:5: FutureWarning: Setting an item of incompatible dtype is deprecated and will raise in a future error of pandas. Value '[-0.90578371  1.75870411 -0.90578371 ...  0.4264602   0.4264602\n",
      " -0.90578371]' has dtype incompatible with int32, please explicitly cast to a compatible dtype first.\n",
      "  x_res.loc[:, 'CreditScore':'Gender_Male'] = scaler.transform(x_res.loc[:, 'CreditScore':'Gender_Male'])\n",
      "C:\\Users\\tmuni\\AppData\\Local\\Temp\\ipykernel_11432\\1716764258.py:5: FutureWarning: Setting an item of incompatible dtype is deprecated and will raise in a future error of pandas. Value '[-1.08472627 -0.48644234 -0.7855843  ...  0.41098355  0.51069754\n",
      "  2.00640736]' has dtype incompatible with int64, please explicitly cast to a compatible dtype first.\n",
      "  x_res.loc[:, 'CreditScore':'Gender_Male'] = scaler.transform(x_res.loc[:, 'CreditScore':'Gender_Male'])\n",
      "C:\\Users\\tmuni\\AppData\\Local\\Temp\\ipykernel_11432\\1716764258.py:5: FutureWarning: Setting an item of incompatible dtype is deprecated and will raise in a future error of pandas. Value '[ 1.0239514  -0.72083851  1.0239514  ...  2.76874131 -0.72083851\n",
      " -0.72083851]' has dtype incompatible with int64, please explicitly cast to a compatible dtype first.\n",
      "  x_res.loc[:, 'CreditScore':'Gender_Male'] = scaler.transform(x_res.loc[:, 'CreditScore':'Gender_Male'])\n",
      "C:\\Users\\tmuni\\AppData\\Local\\Temp\\ipykernel_11432\\1716764258.py:5: FutureWarning: Setting an item of incompatible dtype is deprecated and will raise in a future error of pandas. Value '[ 0.78212256  0.78212256  0.78212256 ... -1.27857199  0.78212256\n",
      " -1.27857199]' has dtype incompatible with int64, please explicitly cast to a compatible dtype first.\n",
      "  x_res.loc[:, 'CreditScore':'Gender_Male'] = scaler.transform(x_res.loc[:, 'CreditScore':'Gender_Male'])\n",
      "C:\\Users\\tmuni\\AppData\\Local\\Temp\\ipykernel_11432\\1716764258.py:5: FutureWarning: Setting an item of incompatible dtype is deprecated and will raise in a future error of pandas. Value '[ 1.29594478  1.29594478 -0.77163782 ...  1.29594478 -0.77163782\n",
      " -0.77163782]' has dtype incompatible with int64, please explicitly cast to a compatible dtype first.\n",
      "  x_res.loc[:, 'CreditScore':'Gender_Male'] = scaler.transform(x_res.loc[:, 'CreditScore':'Gender_Male'])\n",
      "C:\\Users\\tmuni\\AppData\\Local\\Temp\\ipykernel_11432\\1716764258.py:5: FutureWarning: Setting an item of incompatible dtype is deprecated and will raise in a future error of pandas. Value '[-1.22461726 -1.22461726  0.81658166 ...  0.81658166  0.81658166\n",
      "  0.81658166]' has dtype incompatible with bool, please explicitly cast to a compatible dtype first.\n",
      "  x_res.loc[:, 'CreditScore':'Gender_Male'] = scaler.transform(x_res.loc[:, 'CreditScore':'Gender_Male'])\n",
      "C:\\Users\\tmuni\\AppData\\Local\\Temp\\ipykernel_11432\\1716764258.py:6: FutureWarning: Setting an item of incompatible dtype is deprecated and will raise in a future error of pandas. Value '[-0.1018166   1.17654435  1.72285245 ... -0.60442005 -1.7407409\n",
      " -0.4186753 ]' has dtype incompatible with int64, please explicitly cast to a compatible dtype first.\n",
      "  x_test.loc[:, 'CreditScore':'Gender_Male'] = scaler.transform(x_test.loc[:, 'CreditScore':'Gender_Male'])\n",
      "C:\\Users\\tmuni\\AppData\\Local\\Temp\\ipykernel_11432\\1716764258.py:6: FutureWarning: Setting an item of incompatible dtype is deprecated and will raise in a future error of pandas. Value '[ 1.75870411 -0.90578371  1.75870411 ... -0.90578371  1.75870411\n",
      "  1.75870411]' has dtype incompatible with int32, please explicitly cast to a compatible dtype first.\n",
      "  x_test.loc[:, 'CreditScore':'Gender_Male'] = scaler.transform(x_test.loc[:, 'CreditScore':'Gender_Male'])\n",
      "C:\\Users\\tmuni\\AppData\\Local\\Temp\\ipykernel_11432\\1716764258.py:6: FutureWarning: Setting an item of incompatible dtype is deprecated and will raise in a future error of pandas. Value '[ 0.51069754 -1.18444025  0.11184159 ... -0.68587031 -0.08758639\n",
      "  0.51069754]' has dtype incompatible with int64, please explicitly cast to a compatible dtype first.\n",
      "  x_test.loc[:, 'CreditScore':'Gender_Male'] = scaler.transform(x_test.loc[:, 'CreditScore':'Gender_Male'])\n",
      "C:\\Users\\tmuni\\AppData\\Local\\Temp\\ipykernel_11432\\1716764258.py:6: FutureWarning: Setting an item of incompatible dtype is deprecated and will raise in a future error of pandas. Value '[-0.72083851 -0.72083851  1.0239514  ... -0.72083851 -0.72083851\n",
      "  1.0239514 ]' has dtype incompatible with int64, please explicitly cast to a compatible dtype first.\n",
      "  x_test.loc[:, 'CreditScore':'Gender_Male'] = scaler.transform(x_test.loc[:, 'CreditScore':'Gender_Male'])\n",
      "C:\\Users\\tmuni\\AppData\\Local\\Temp\\ipykernel_11432\\1716764258.py:6: FutureWarning: Setting an item of incompatible dtype is deprecated and will raise in a future error of pandas. Value '[ 0.78212256  0.78212256  0.78212256 ... -1.27857199 -1.27857199\n",
      "  0.78212256]' has dtype incompatible with int64, please explicitly cast to a compatible dtype first.\n",
      "  x_test.loc[:, 'CreditScore':'Gender_Male'] = scaler.transform(x_test.loc[:, 'CreditScore':'Gender_Male'])\n",
      "C:\\Users\\tmuni\\AppData\\Local\\Temp\\ipykernel_11432\\1716764258.py:6: FutureWarning: Setting an item of incompatible dtype is deprecated and will raise in a future error of pandas. Value '[ 1.29594478 -0.77163782  1.29594478 ... -0.77163782 -0.77163782\n",
      " -0.77163782]' has dtype incompatible with int64, please explicitly cast to a compatible dtype first.\n",
      "  x_test.loc[:, 'CreditScore':'Gender_Male'] = scaler.transform(x_test.loc[:, 'CreditScore':'Gender_Male'])\n",
      "C:\\Users\\tmuni\\AppData\\Local\\Temp\\ipykernel_11432\\1716764258.py:6: FutureWarning: Setting an item of incompatible dtype is deprecated and will raise in a future error of pandas. Value '[-1.22461726  0.81658166  0.81658166 ... -1.22461726  0.81658166\n",
      "  0.81658166]' has dtype incompatible with bool, please explicitly cast to a compatible dtype first.\n",
      "  x_test.loc[:, 'CreditScore':'Gender_Male'] = scaler.transform(x_test.loc[:, 'CreditScore':'Gender_Male'])\n"
     ]
    }
   ],
   "source": [
    "# Normalizando os dados\n",
    "scaler = StandardScaler()\n",
    "scaler.fit(x_res.loc[:, 'CreditScore':'Gender_Male'])\n",
    "# Normalizando os dados de teste\n",
    "x_res.loc[:, 'CreditScore':'Gender_Male'] = scaler.transform(x_res.loc[:, 'CreditScore':'Gender_Male'])\n",
    "x_test.loc[:, 'CreditScore':'Gender_Male'] = scaler.transform(x_test.loc[:, 'CreditScore':'Gender_Male'])"
   ]
  },
  {
   "cell_type": "markdown",
   "id": "d1a93e5c",
   "metadata": {},
   "source": [
    "Escalamos o conjunto de teste e treinamento na mesma proporcao na tentativa de ter dados mais justos para o treinamento."
   ]
  },
  {
   "cell_type": "code",
   "execution_count": 13,
   "id": "5b4b2266",
   "metadata": {},
   "outputs": [
    {
     "name": "stdout",
     "output_type": "stream",
     "text": [
      "\n",
      "Confusion Matrix:\n",
      "[[1711  254]\n",
      " [ 217  318]]\n",
      "\n",
      "Accuracy Score:\n",
      "0.8116\n",
      "\n",
      "ROC AUC Score:\n",
      "0.7325652184252456\n",
      "\n",
      "F1 Score:\n",
      "0.5745257452574526\n"
     ]
    }
   ],
   "source": [
    "# Treinando o modelo\n",
    "model = RandomForestClassifier(n_estimators=100, random_state=12345)\n",
    "model.fit(x_res, y_res)\n",
    "\n",
    "# Fazendo previsões\n",
    "y_pred = model.predict(x_test)\n",
    "\n",
    "# Avaliando o modelo\n",
    "print(\"\\nConfusion Matrix:\")\n",
    "print(confusion_matrix(y_test, y_pred))\n",
    "print(\"\\nAccuracy Score:\")\n",
    "print(accuracy_score(y_test, y_pred))\n",
    "print(\"\\nROC AUC Score:\")\n",
    "print(roc_auc_score(y_test, y_pred))\n",
    "print(\"\\nF1 Score:\")\n",
    "print(f1_score(y_test, y_pred))"
   ]
  },
  {
   "cell_type": "markdown",
   "id": "b6457973",
   "metadata": {},
   "source": [
    "Observamos aqui que as metricas sofreram uma leve baixa, mas agora vou procurar hiperparametros que possam reverter isso."
   ]
  },
  {
   "cell_type": "code",
   "execution_count": null,
   "id": "cdcfdf48",
   "metadata": {},
   "outputs": [],
   "source": [
    "# Definindo os parâmetros para o GridSearchCV\n",
    "param_grid = {\n",
    "    'n_estimators': [320, 350, 370],\n",
    "    'max_features': ['sqrt', 'log2', None],\n",
    "    'max_depth': [15, 20, 25],\n",
    "    'min_samples_split': [12, 15, 18],\n",
    "    'min_samples_leaf': [1, 2, 3],\n",
    "    'class_weight': ['balanced', None],\n",
    "}\n",
    "\n",
    "# Criando o modelo RandomForestClassifier\n",
    "rf = RandomForestClassifier(random_state=12345)\n",
    "\n",
    "# Criando o GridSearchCV\n",
    "grid_search = GridSearchCV(estimator=rf, param_grid=param_grid, cv=3, n_jobs=-1, verbose=3, scoring='f1')\n",
    "\n",
    "# Ajustando o GridSearchCV aos dados de treino\n",
    "grid_search.fit(x_res.loc[:, 'CreditScore':'Gender_Male'], y_res)\n",
    "\n",
    "# Imprimindo os melhores parâmetros encontrados\n",
    "print(\"Melhores parâmetros encontrados:\")\n",
    "print(grid_search.best_params_)\n",
    "# Imprimindo o melhor score\n",
    "print(\"Melhor score encontrado:\")\n",
    "print(grid_search.best_score_)\n",
    "# Fazendo previsões com o melhor modelo encontrado\n",
    "best_model = grid_search.best_estimator_\n",
    "y_pred_best = best_model.predict(x_test.loc[:, 'CreditScore':'Gender_Male'])\n",
    "# Avaliando o melhor modelo\n",
    "print(\"\\nConfusion Matrix do melhor modelo:\")\n",
    "print(confusion_matrix(y_test, y_pred_best))\n",
    "print(\"\\nAccuracy Score do melhor modelo:\")\n",
    "print(accuracy_score(y_test, y_pred_best))\n",
    "print(\"\\nROC AUC Score do melhor modelo:\")\n",
    "print(roc_auc_score(y_test, y_pred_best))\n",
    "print(\"\\nF1 Score do melhor modelo:\")\n",
    "print(f1_score(y_test, y_pred_best))"
   ]
  },
  {
   "cell_type": "markdown",
   "id": "83d39e0b",
   "metadata": {},
   "source": [
    "Apos obter os hiperparametros otimizados para nosso objetivo, f1_score >= 0.59, treinei o modelo com eles abaixo."
   ]
  },
  {
   "cell_type": "code",
   "execution_count": 11,
   "id": "8c6633d1",
   "metadata": {},
   "outputs": [
    {
     "name": "stdout",
     "output_type": "stream",
     "text": [
      "\n",
      "Confusion Matrix:\n",
      "[[1680  285]\n",
      " [ 183  352]]\n",
      "\n",
      "Accuracy Score:\n",
      "0.8128\n",
      "\n",
      "ROC AUC Score:\n",
      "0.7564528786473568\n",
      "\n",
      "F1 Score:\n",
      "0.6006825938566553\n"
     ]
    }
   ],
   "source": [
    "# Treinando o modelo\n",
    "model = RandomForestClassifier(n_estimators=350, random_state=12345, max_depth=20,\n",
    "                               min_samples_split=15, min_samples_leaf=1, max_features='sqrt')\n",
    "\n",
    "# Treinando o modelo com os melhores parâmetros encontrados\n",
    "model.fit(x_res.loc[:, 'CreditScore':'Gender_Male'], y_res)\n",
    "\n",
    "# Fazendo previsões\n",
    "y_pred = model.predict(x_test.loc[:, 'CreditScore':'Gender_Male'])\n",
    "\n",
    "# Avaliando o modelo\n",
    "print(\"\\nConfusion Matrix:\")\n",
    "print(confusion_matrix(y_test, y_pred))\n",
    "print(\"\\nAccuracy Score:\")\n",
    "print(accuracy_score(y_test, y_pred))\n",
    "print(\"\\nROC AUC Score:\")\n",
    "print(roc_auc_score(y_test, y_pred))\n",
    "print(\"\\nF1 Score:\")\n",
    "print(f1_score(y_test, y_pred))"
   ]
  },
  {
   "cell_type": "markdown",
   "id": "54d8d64d",
   "metadata": {},
   "source": [
    "Mesmo perdendo em acuracia total, conseguimos melhorar o AUC-ROC o que nos diz que o modelo melhorou a capacidade de disntiguir positivos de negativos, ja nosso f1_score passou de 0.60 o que nos da uma boa media de equilibrio entre a sensibilidade e a precisao."
   ]
  }
 ],
 "metadata": {
  "kernelspec": {
   "display_name": "base",
   "language": "python",
   "name": "python3"
  },
  "language_info": {
   "codemirror_mode": {
    "name": "ipython",
    "version": 3
   },
   "file_extension": ".py",
   "mimetype": "text/x-python",
   "name": "python",
   "nbconvert_exporter": "python",
   "pygments_lexer": "ipython3",
   "version": "3.12.7"
  }
 },
 "nbformat": 4,
 "nbformat_minor": 5
}
